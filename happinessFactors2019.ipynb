{
 "cells": [
  {
   "cell_type": "code",
   "execution_count": 1,
   "metadata": {},
   "outputs": [],
   "source": [
    "import pyspark\n",
    "from pyspark import SQLContext\n",
    "from pyspark import SparkContext\n",
    "import time\n",
    "from pyspark.sql import Row\n",
    "from pyspark.sql.functions import lag, col, toRadians, sqrt, sin, cos, asin, lit, unix_timestamp, from_unixtime, datediff,sum\n",
    "from pyspark.sql.functions import isnan, when, count, col, expr\n",
    "from pyspark.sql.window import Window\n",
    "from pyspark import SparkConf\n",
    "from pyspark.sql.functions import countDistinct\n",
    "import numpy as np"
   ]
  },
  {
   "cell_type": "code",
   "execution_count": 2,
   "metadata": {},
   "outputs": [
    {
     "data": {
      "text/html": [
       "\n",
       "        <div>\n",
       "            <p><b>SparkContext</b></p>\n",
       "\n",
       "            <p><a href=\"http://host.docker.internal:4041\">Spark UI</a></p>\n",
       "\n",
       "            <dl>\n",
       "              <dt>Version</dt>\n",
       "                <dd><code>v3.0.2</code></dd>\n",
       "              <dt>Master</dt>\n",
       "                <dd><code>local[*]</code></dd>\n",
       "              <dt>AppName</dt>\n",
       "                <dd><code>App</code></dd>\n",
       "            </dl>\n",
       "        </div>\n",
       "        "
      ],
      "text/plain": [
       "<SparkContext master=local[*] appName=App>"
      ]
     },
     "execution_count": 2,
     "metadata": {},
     "output_type": "execute_result"
    }
   ],
   "source": [
    "#sc = pyspark.SparkContext.getOrCreate()\n",
    "#https://datascience.stackexchange.com/questions/8549/how-do-i-set-get-heap-size-for-spark-via-python-notebook\n",
    "\n",
    "conf = SparkConf().setAppName(\"App\")\n",
    "conf = (conf.setMaster('local[*]')\n",
    "        .set('spark.executor.memory', '4G')\n",
    "        .set('spark.driver.memory', '45G')\n",
    "        .set('spark.driver.maxResultSize', '10G'))\n",
    "sc = SparkContext(conf=conf)\n",
    "sc"
   ]
  },
  {
   "cell_type": "code",
   "execution_count": 3,
   "metadata": {},
   "outputs": [],
   "source": [
    "sqlContext = SQLContext(sc)"
   ]
  },
  {
   "cell_type": "code",
   "execution_count": 73,
   "metadata": {},
   "outputs": [],
   "source": [
    "## Loading csv file as the RDD\n",
    "HappinessdataSetRDD= sc.textFile(\"2019.csv\")"
   ]
  },
  {
   "cell_type": "code",
   "execution_count": 5,
   "metadata": {},
   "outputs": [
    {
     "data": {
      "text/plain": [
       "pyspark.rdd.RDD"
      ]
     },
     "execution_count": 5,
     "metadata": {},
     "output_type": "execute_result"
    }
   ],
   "source": [
    "## to find the type of the object\n",
    "type(HappinessdataSetRDD)"
   ]
  },
  {
   "cell_type": "code",
   "execution_count": 6,
   "metadata": {},
   "outputs": [
    {
     "data": {
      "text/plain": [
       "['1,Finland,7.769,1.340,1.587,0.986,0.596,0.153,0.393',\n",
       " '2,Denmark,7.600,1.383,1.573,0.996,0.592,0.252,0.410',\n",
       " '3,Norway,7.554,1.488,1.582,1.028,0.603,0.271,0.341',\n",
       " '4,Iceland,7.494,1.380,1.624,1.026,0.591,0.354,0.118',\n",
       " '5,Netherlands,7.488,1.396,1.522,0.999,0.557,0.322,0.298',\n",
       " '6,Switzerland,7.480,1.452,1.526,1.052,0.572,0.263,0.343',\n",
       " '7,Sweden,7.343,1.387,1.487,1.009,0.574,0.267,0.373',\n",
       " '8,New Zealand,7.307,1.303,1.557,1.026,0.585,0.330,0.380',\n",
       " '9,Canada,7.278,1.365,1.505,1.039,0.584,0.285,0.308',\n",
       " '10,Austria,7.246,1.376,1.475,1.016,0.532,0.244,0.226']"
      ]
     },
     "execution_count": 6,
     "metadata": {},
     "output_type": "execute_result"
    }
   ],
   "source": [
    "## looking for top 10 rows using take \n",
    "HappinessdataSetRDD.take(10)"
   ]
  },
  {
   "cell_type": "code",
   "execution_count": 7,
   "metadata": {},
   "outputs": [],
   "source": [
    "## mapping that data using required columns as from the RDD using map function\n",
    "HappinessdataSetRDDCountryScore= HappinessdataSetRDD.map(lambda x: ((int(x.split(\",\")[0])), x.split(\",\")[1], float(x.split(\",\")[2])))"
   ]
  },
  {
   "cell_type": "code",
   "execution_count": 8,
   "metadata": {},
   "outputs": [
    {
     "data": {
      "text/plain": [
       "[(1, 'Finland', 7.769),\n",
       " (2, 'Denmark', 7.6),\n",
       " (3, 'Norway', 7.554),\n",
       " (4, 'Iceland', 7.494),\n",
       " (5, 'Netherlands', 7.488),\n",
       " (6, 'Switzerland', 7.48),\n",
       " (7, 'Sweden', 7.343),\n",
       " (8, 'New Zealand', 7.307),\n",
       " (9, 'Canada', 7.278),\n",
       " (10, 'Austria', 7.246)]"
      ]
     },
     "execution_count": 8,
     "metadata": {},
     "output_type": "execute_result"
    }
   ],
   "source": [
    "HappinessdataSetRDDCountryScore.take(10)"
   ]
  },
  {
   "cell_type": "code",
   "execution_count": 9,
   "metadata": {},
   "outputs": [],
   "source": [
    "## filtering data using filter function and maping as the (key, (value)) pair ## Transofmration\n",
    "HappinessdataSetRDDCountryScorePak= HappinessdataSetRDDCountryScore.filter(lambda x: x[1]== \"Pakistan\").map(lambda y: (float(y[2]), y))"
   ]
  },
  {
   "cell_type": "code",
   "execution_count": 10,
   "metadata": {},
   "outputs": [
    {
     "data": {
      "text/plain": [
       "[(5.653, (67, 'Pakistan', 5.653))]"
      ]
     },
     "execution_count": 10,
     "metadata": {},
     "output_type": "execute_result"
    }
   ],
   "source": [
    "HappinessdataSetRDDCountryScorePak.take(10)"
   ]
  },
  {
   "cell_type": "code",
   "execution_count": 11,
   "metadata": {},
   "outputs": [],
   "source": [
    "pakScore=HappinessdataSetRDDCountryScorePak.map(lambda x: x[1][2])"
   ]
  },
  {
   "cell_type": "code",
   "execution_count": 12,
   "metadata": {},
   "outputs": [
    {
     "data": {
      "text/plain": [
       "[5.653]"
      ]
     },
     "execution_count": 12,
     "metadata": {},
     "output_type": "execute_result"
    }
   ],
   "source": [
    "pakScore.take(10)"
   ]
  },
  {
   "cell_type": "code",
   "execution_count": 13,
   "metadata": {},
   "outputs": [
    {
     "data": {
      "text/plain": [
       "[7.769, 7.6, 7.554, 7.494, 7.488, 7.48, 7.343, 7.307, 7.278, 7.246]"
      ]
     },
     "execution_count": 13,
     "metadata": {},
     "output_type": "execute_result"
    }
   ],
   "source": [
    "HappinessdataSetRDDCountryScore.map(lambda x: float(x[2])).take(10)"
   ]
  },
  {
   "cell_type": "code",
   "execution_count": 14,
   "metadata": {},
   "outputs": [],
   "source": [
    "filterData= HappinessdataSetRDDCountryScore.map(lambda x: (float(x[2]), x)).filter(lambda o: o[1][2] >= 5.653)"
   ]
  },
  {
   "cell_type": "code",
   "execution_count": 15,
   "metadata": {
    "scrolled": true
   },
   "outputs": [
    {
     "name": "stdout",
     "output_type": "stream",
     "text": [
      "(7.769, (1, 'Finland', 7.769))\n",
      "(7.6, (2, 'Denmark', 7.6))\n",
      "(7.554, (3, 'Norway', 7.554))\n",
      "(7.494, (4, 'Iceland', 7.494))\n",
      "(7.488, (5, 'Netherlands', 7.488))\n",
      "(7.48, (6, 'Switzerland', 7.48))\n",
      "(7.343, (7, 'Sweden', 7.343))\n",
      "(7.307, (8, 'New Zealand', 7.307))\n",
      "(7.278, (9, 'Canada', 7.278))\n",
      "(7.246, (10, 'Austria', 7.246))\n",
      "(7.228, (11, 'Australia', 7.228))\n",
      "(7.167, (12, 'Costa Rica', 7.167))\n",
      "(7.139, (13, 'Israel', 7.139))\n",
      "(7.09, (14, 'Luxembourg', 7.09))\n",
      "(7.054, (15, 'United Kingdom', 7.054))\n",
      "(7.021, (16, 'Ireland', 7.021))\n",
      "(6.985, (17, 'Germany', 6.985))\n",
      "(6.923, (18, 'Belgium', 6.923))\n",
      "(6.892, (19, 'United States', 6.892))\n",
      "(6.852, (20, 'Czech Republic', 6.852))\n",
      "(6.825, (21, 'United Arab Emirates', 6.825))\n",
      "(6.726, (22, 'Malta', 6.726))\n",
      "(6.595, (23, 'Mexico', 6.595))\n",
      "(6.592, (24, 'France', 6.592))\n",
      "(6.446, (25, 'Taiwan', 6.446))\n",
      "(6.444, (26, 'Chile', 6.444))\n",
      "(6.436, (27, 'Guatemala', 6.436))\n",
      "(6.375, (28, 'Saudi Arabia', 6.375))\n",
      "(6.374, (29, 'Qatar', 6.374))\n",
      "(6.354, (30, 'Spain', 6.354))\n",
      "(6.321, (31, 'Panama', 6.321))\n",
      "(6.3, (32, 'Brazil', 6.3))\n",
      "(6.293, (33, 'Uruguay', 6.293))\n",
      "(6.262, (34, 'Singapore', 6.262))\n",
      "(6.253, (35, 'El Salvador', 6.253))\n",
      "(6.223, (36, 'Italy', 6.223))\n",
      "(6.199, (37, 'Bahrain', 6.199))\n",
      "(6.198, (38, 'Slovakia', 6.198))\n",
      "(6.192, (39, 'Trinidad & Tobago', 6.192))\n",
      "(6.182, (40, 'Poland', 6.182))\n",
      "(6.174, (41, 'Uzbekistan', 6.174))\n",
      "(6.149, (42, 'Lithuania', 6.149))\n",
      "(6.125, (43, 'Colombia', 6.125))\n",
      "(6.118, (44, 'Slovenia', 6.118))\n",
      "(6.105, (45, 'Nicaragua', 6.105))\n",
      "(6.1, (46, 'Kosovo', 6.1))\n",
      "(6.086, (47, 'Argentina', 6.086))\n",
      "(6.07, (48, 'Romania', 6.07))\n",
      "(6.046, (49, 'Cyprus', 6.046))\n",
      "(6.028, (50, 'Ecuador', 6.028))\n",
      "(6.021, (51, 'Kuwait', 6.021))\n",
      "(6.008, (52, 'Thailand', 6.008))\n",
      "(5.94, (53, 'Latvia', 5.94))\n",
      "(5.895, (54, 'South Korea', 5.895))\n",
      "(5.893, (55, 'Estonia', 5.893))\n",
      "(5.89, (56, 'Jamaica', 5.89))\n",
      "(5.888, (57, 'Mauritius', 5.888))\n",
      "(5.886, (58, 'Japan', 5.886))\n",
      "(5.86, (59, 'Honduras', 5.86))\n",
      "(5.809, (60, 'Kazakhstan', 5.809))\n",
      "(5.779, (61, 'Bolivia', 5.779))\n",
      "(5.758, (62, 'Hungary', 5.758))\n",
      "(5.743, (63, 'Paraguay', 5.743))\n",
      "(5.718, (64, 'Northern Cyprus', 5.718))\n",
      "(5.697, (65, 'Peru', 5.697))\n",
      "(5.693, (66, 'Portugal', 5.693))\n",
      "(5.653, (67, 'Pakistan', 5.653))\n"
     ]
    }
   ],
   "source": [
    "for dataset in filterData.collect(): print(dataset)"
   ]
  },
  {
   "cell_type": "code",
   "execution_count": 16,
   "metadata": {},
   "outputs": [],
   "source": [
    "filterData= HappinessdataSetRDDCountryScore.map(lambda x: (float(x[2]), x)).filter(lambda o: o[1][2] <= 5.653)"
   ]
  },
  {
   "cell_type": "code",
   "execution_count": 17,
   "metadata": {
    "scrolled": true
   },
   "outputs": [
    {
     "name": "stdout",
     "output_type": "stream",
     "text": [
      "(5.653, (67, 'Pakistan', 5.653))\n",
      "(5.648, (68, 'Russia', 5.648))\n",
      "(5.631, (69, 'Philippines', 5.631))\n",
      "(5.603, (70, 'Serbia', 5.603))\n",
      "(5.529, (71, 'Moldova', 5.529))\n",
      "(5.525, (72, 'Libya', 5.525))\n",
      "(5.523, (73, 'Montenegro', 5.523))\n",
      "(5.467, (74, 'Tajikistan', 5.467))\n",
      "(5.432, (75, 'Croatia', 5.432))\n",
      "(5.43, (76, 'Hong Kong', 5.43))\n",
      "(5.425, (77, 'Dominican Republic', 5.425))\n",
      "(5.386, (78, 'Bosnia and Herzegovina', 5.386))\n",
      "(5.373, (79, 'Turkey', 5.373))\n",
      "(5.339, (80, 'Malaysia', 5.339))\n",
      "(5.323, (81, 'Belarus', 5.323))\n",
      "(5.287, (82, 'Greece', 5.287))\n",
      "(5.285, (83, 'Mongolia', 5.285))\n",
      "(5.274, (84, 'North Macedonia', 5.274))\n",
      "(5.265, (85, 'Nigeria', 5.265))\n",
      "(5.261, (86, 'Kyrgyzstan', 5.261))\n",
      "(5.247, (87, 'Turkmenistan', 5.247))\n",
      "(5.211, (88, 'Algeria', 5.211))\n",
      "(5.208, (89, 'Morocco', 5.208))\n",
      "(5.208, (90, 'Azerbaijan', 5.208))\n",
      "(5.197, (91, 'Lebanon', 5.197))\n",
      "(5.192, (92, 'Indonesia', 5.192))\n",
      "(5.191, (93, 'China', 5.191))\n",
      "(5.175, (94, 'Vietnam', 5.175))\n",
      "(5.082, (95, 'Bhutan', 5.082))\n",
      "(5.044, (96, 'Cameroon', 5.044))\n",
      "(5.011, (97, 'Bulgaria', 5.011))\n",
      "(4.996, (98, 'Ghana', 4.996))\n",
      "(4.944, (99, 'Ivory Coast', 4.944))\n",
      "(4.913, (100, 'Nepal', 4.913))\n",
      "(4.906, (101, 'Jordan', 4.906))\n",
      "(4.883, (102, 'Benin', 4.883))\n",
      "(4.812, (103, 'Congo (Brazzaville)', 4.812))\n",
      "(4.799, (104, 'Gabon', 4.799))\n",
      "(4.796, (105, 'Laos', 4.796))\n",
      "(4.722, (106, 'South Africa', 4.722))\n",
      "(4.719, (107, 'Albania', 4.719))\n",
      "(4.707, (108, 'Venezuela', 4.707))\n",
      "(4.7, (109, 'Cambodia', 4.7))\n",
      "(4.696, (110, 'Palestinian Territories', 4.696))\n",
      "(4.681, (111, 'Senegal', 4.681))\n",
      "(4.668, (112, 'Somalia', 4.668))\n",
      "(4.639, (113, 'Namibia', 4.639))\n",
      "(4.628, (114, 'Niger', 4.628))\n",
      "(4.587, (115, 'Burkina Faso', 4.587))\n",
      "(4.559, (116, 'Armenia', 4.559))\n",
      "(4.548, (117, 'Iran', 4.548))\n",
      "(4.534, (118, 'Guinea', 4.534))\n",
      "(4.519, (119, 'Georgia', 4.519))\n",
      "(4.516, (120, 'Gambia', 4.516))\n",
      "(4.509, (121, 'Kenya', 4.509))\n",
      "(4.49, (122, 'Mauritania', 4.49))\n",
      "(4.466, (123, 'Mozambique', 4.466))\n",
      "(4.461, (124, 'Tunisia', 4.461))\n",
      "(4.456, (125, 'Bangladesh', 4.456))\n",
      "(4.437, (126, 'Iraq', 4.437))\n",
      "(4.418, (127, 'Congo (Kinshasa)', 4.418))\n",
      "(4.39, (128, 'Mali', 4.39))\n",
      "(4.374, (129, 'Sierra Leone', 4.374))\n",
      "(4.366, (130, 'Sri Lanka', 4.366))\n",
      "(4.36, (131, 'Myanmar', 4.36))\n",
      "(4.35, (132, 'Chad', 4.35))\n",
      "(4.332, (133, 'Ukraine', 4.332))\n",
      "(4.286, (134, 'Ethiopia', 4.286))\n",
      "(4.212, (135, 'Swaziland', 4.212))\n",
      "(4.189, (136, 'Uganda', 4.189))\n",
      "(4.166, (137, 'Egypt', 4.166))\n",
      "(4.107, (138, 'Zambia', 4.107))\n",
      "(4.085, (139, 'Togo', 4.085))\n",
      "(4.015, (140, 'India', 4.015))\n",
      "(3.975, (141, 'Liberia', 3.975))\n",
      "(3.973, (142, 'Comoros', 3.973))\n",
      "(3.933, (143, 'Madagascar', 3.933))\n",
      "(3.802, (144, 'Lesotho', 3.802))\n",
      "(3.775, (145, 'Burundi', 3.775))\n",
      "(3.663, (146, 'Zimbabwe', 3.663))\n",
      "(3.597, (147, 'Haiti', 3.597))\n",
      "(3.488, (148, 'Botswana', 3.488))\n",
      "(3.462, (149, 'Syria', 3.462))\n",
      "(3.41, (150, 'Malawi', 3.41))\n",
      "(3.38, (151, 'Yemen', 3.38))\n",
      "(3.334, (152, 'Rwanda', 3.334))\n",
      "(3.231, (153, 'Tanzania', 3.231))\n",
      "(3.203, (154, 'Afghanistan', 3.203))\n",
      "(3.083, (155, 'Central African Republic', 3.083))\n",
      "(2.853, (156, 'South Sudan', 2.853))\n"
     ]
    }
   ],
   "source": [
    "for dataset in filterData.collect(): print(dataset)"
   ]
  },
  {
   "cell_type": "code",
   "execution_count": null,
   "metadata": {},
   "outputs": [],
   "source": []
  },
  {
   "cell_type": "code",
   "execution_count": 18,
   "metadata": {},
   "outputs": [],
   "source": [
    "##HealthyLifeExpectency -- col 6"
   ]
  },
  {
   "cell_type": "code",
   "execution_count": 19,
   "metadata": {},
   "outputs": [],
   "source": [
    "HappinessdataSetRDDHealthyLifeExpectency= HappinessdataSetRDD.map(lambda x: ((int(x.split(\",\")[0])), x.split(\",\")[1], float(float(x.split(\",\")[6])*100) ))"
   ]
  },
  {
   "cell_type": "code",
   "execution_count": 20,
   "metadata": {},
   "outputs": [],
   "source": [
    "lifeHealthyRDD= HappinessdataSetRDDHealthyLifeExpectency.map(lambda x: (float(x[2]), x))"
   ]
  },
  {
   "cell_type": "code",
   "execution_count": 21,
   "metadata": {},
   "outputs": [],
   "source": [
    "## use false for the descending order with sortbykey on RDD\n",
    "lifeHealthyRDDSorted= lifeHealthyRDD.sortByKey(False) "
   ]
  },
  {
   "cell_type": "code",
   "execution_count": 22,
   "metadata": {},
   "outputs": [
    {
     "data": {
      "text/plain": [
       "[(59.599999999999994, (1, 'Finland', 59.599999999999994)),\n",
       " (59.199999999999996, (2, 'Denmark', 59.199999999999996)),\n",
       " (60.3, (3, 'Norway', 60.3)),\n",
       " (59.099999999999994, (4, 'Iceland', 59.099999999999994)),\n",
       " (55.7, (5, 'Netherlands', 55.7)),\n",
       " (57.199999999999996, (6, 'Switzerland', 57.199999999999996)),\n",
       " (57.4, (7, 'Sweden', 57.4)),\n",
       " (58.5, (8, 'New Zealand', 58.5)),\n",
       " (58.4, (9, 'Canada', 58.4)),\n",
       " (53.2, (10, 'Austria', 53.2))]"
      ]
     },
     "execution_count": 22,
     "metadata": {},
     "output_type": "execute_result"
    }
   ],
   "source": [
    "lifeHealthyRDD.take(10)"
   ]
  },
  {
   "cell_type": "code",
   "execution_count": null,
   "metadata": {},
   "outputs": [],
   "source": []
  },
  {
   "cell_type": "code",
   "execution_count": null,
   "metadata": {},
   "outputs": [],
   "source": []
  },
  {
   "cell_type": "code",
   "execution_count": 23,
   "metadata": {},
   "outputs": [],
   "source": [
    "##FreedomtoDecision -- col 7 in Dataset"
   ]
  },
  {
   "cell_type": "code",
   "execution_count": 33,
   "metadata": {},
   "outputs": [],
   "source": [
    "HappinessdataSetRDDLifeFreedom= HappinessdataSetRDD.map(lambda x: ((int(x.split(\",\")[0])), x.split(\",\")[1], float(float(x.split(\",\")[7])*100) ))"
   ]
  },
  {
   "cell_type": "code",
   "execution_count": 34,
   "metadata": {},
   "outputs": [
    {
     "data": {
      "text/plain": [
       "[(1, 'Finland', 15.299999999999999),\n",
       " (2, 'Denmark', 25.2),\n",
       " (3, 'Norway', 27.1),\n",
       " (4, 'Iceland', 35.4),\n",
       " (5, 'Netherlands', 32.2),\n",
       " (6, 'Switzerland', 26.3),\n",
       " (7, 'Sweden', 26.700000000000003),\n",
       " (8, 'New Zealand', 33.0),\n",
       " (9, 'Canada', 28.499999999999996),\n",
       " (10, 'Austria', 24.4)]"
      ]
     },
     "execution_count": 34,
     "metadata": {},
     "output_type": "execute_result"
    }
   ],
   "source": [
    "HappinessdataSetRDDLifeFreedom.take(10)"
   ]
  },
  {
   "cell_type": "code",
   "execution_count": 35,
   "metadata": {},
   "outputs": [],
   "source": [
    "lifeFreedomRDD= HappinessdataSetRDDLifeFreedom.map(lambda x: (float(x[2]), x))"
   ]
  },
  {
   "cell_type": "code",
   "execution_count": 36,
   "metadata": {},
   "outputs": [],
   "source": [
    "lifeHealthyRDDSorted= lifeFreedomRDD.sortByKey(False) "
   ]
  },
  {
   "cell_type": "code",
   "execution_count": 39,
   "metadata": {},
   "outputs": [
    {
     "data": {
      "text/plain": [
       "[(34.8, (15, 'United Kingdom', 34.8))]"
      ]
     },
     "execution_count": 39,
     "metadata": {},
     "output_type": "execute_result"
    }
   ],
   "source": [
    "lifeHealthyRDDSorted.filter(lambda x: x[1][1]== \"United Kingdom\").take(10)"
   ]
  },
  {
   "cell_type": "code",
   "execution_count": 53,
   "metadata": {},
   "outputs": [],
   "source": [
    "## Sorting data based on the key value from the RDD of (Key, (value)) pair RDD\n",
    "lifeHealthyRDDData= lifeHealthyRDDSorted.map(lambda x: (int(x[1][0]), x[1][1], float(x[1][2]) ))"
   ]
  },
  {
   "cell_type": "code",
   "execution_count": 54,
   "metadata": {},
   "outputs": [
    {
     "name": "stdout",
     "output_type": "stream",
     "text": [
      "(131, 'Myanmar', 56.599999999999994)\n",
      "(92, 'Indonesia', 49.8)\n",
      "(147, 'Haiti', 41.9)\n",
      "(22, 'Malta', 37.5)\n",
      "(121, 'Kenya', 37.2)\n",
      "(95, 'Bhutan', 37.0)\n",
      "(52, 'Thailand', 35.9)\n",
      "(4, 'Iceland', 35.4)\n",
      "(15, 'United Kingdom', 34.8)\n",
      "(11, 'Australia', 33.2)\n"
     ]
    }
   ],
   "source": [
    "for items in lifeHealthyRDDData.take(10): print(items)"
   ]
  },
  {
   "cell_type": "code",
   "execution_count": 65,
   "metadata": {},
   "outputs": [],
   "source": [
    "## converting the RDD to PySpark Dataframe and add column names as required using schema keyword\n",
    "lifeHealthyRDDDataDf= lifeHealthyRDDData.toDF(schema=[\"id\", \"CountryName\", \"LifeFreedomPercent\"])"
   ]
  },
  {
   "cell_type": "code",
   "execution_count": 66,
   "metadata": {},
   "outputs": [
    {
     "name": "stdout",
     "output_type": "stream",
     "text": [
      "+---+--------------+------------------+\n",
      "| id|   CountryName|LifeFreedomPercent|\n",
      "+---+--------------+------------------+\n",
      "|131|       Myanmar|56.599999999999994|\n",
      "| 92|     Indonesia|              49.8|\n",
      "|147|         Haiti|              41.9|\n",
      "| 22|         Malta|              37.5|\n",
      "|121|         Kenya|              37.2|\n",
      "| 95|        Bhutan|              37.0|\n",
      "| 52|      Thailand|              35.9|\n",
      "|  4|       Iceland|              35.4|\n",
      "| 15|United Kingdom|              34.8|\n",
      "| 11|     Australia|              33.2|\n",
      "|149|         Syria|              33.1|\n",
      "|  8|   New Zealand|              33.0|\n",
      "|  5|   Netherlands|              32.2|\n",
      "| 41|    Uzbekistan|              32.2|\n",
      "| 86|    Kyrgyzstan|              30.0|\n",
      "| 16|       Ireland|29.799999999999997|\n",
      "|  9|        Canada|28.499999999999996|\n",
      "|100|         Nepal|28.499999999999996|\n",
      "| 19| United States|28.000000000000004|\n",
      "|153|      Tanzania|              27.6|\n",
      "+---+--------------+------------------+\n",
      "only showing top 20 rows\n",
      "\n"
     ]
    }
   ],
   "source": [
    "## Show keyword is used to view PySpark Data\n",
    "lifeHealthyRDDDataDf.show()"
   ]
  },
  {
   "cell_type": "code",
   "execution_count": 74,
   "metadata": {},
   "outputs": [],
   "source": [
    "## Save it to csv by converting it to Pandas and using Pandas CSV option\n",
    "lifeHealthyRDDDataDf.toPandas().to_csv('lifeHealthyDF.csv')"
   ]
  },
  {
   "cell_type": "code",
   "execution_count": null,
   "metadata": {},
   "outputs": [],
   "source": []
  }
 ],
 "metadata": {
  "kernelspec": {
   "display_name": "Python 3",
   "language": "python",
   "name": "python3"
  },
  "language_info": {
   "codemirror_mode": {
    "name": "ipython",
    "version": 3
   },
   "file_extension": ".py",
   "mimetype": "text/x-python",
   "name": "python",
   "nbconvert_exporter": "python",
   "pygments_lexer": "ipython3",
   "version": "3.8.5"
  }
 },
 "nbformat": 4,
 "nbformat_minor": 4
}
